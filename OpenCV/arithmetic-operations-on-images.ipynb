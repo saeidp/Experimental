{
 "cells": [
  {
   "cell_type": "code",
   "execution_count": 1,
   "metadata": {},
   "outputs": [],
   "source": [
    "import cv2\n",
    "import numpy as np\n",
    "import matplotlib.pyplot as plt"
   ]
  },
  {
   "cell_type": "markdown",
   "metadata": {},
   "source": [
    "### Image Addition"
   ]
  },
  {
   "cell_type": "code",
   "execution_count": null,
   "metadata": {},
   "outputs": [],
   "source": [
    "# There is a difference between OpenCV addition and Numpy addition.\n",
    "#OpenCV addition is a saturated operation while Numpy addition is\n",
    "#a modulo operation.\n",
    "x = np.uint8([250])\n",
    "y = np.uint8([10])\n",
    "print(cv2.add(x,y)) # 250+10 = 260 => 255\n",
    "\n",
    "print(x+y)          # 250+10 = 260 % 256 = 4\n"
   ]
  },
  {
   "cell_type": "markdown",
   "metadata": {},
   "source": [
    "### Image blending"
   ]
  },
  {
   "cell_type": "code",
   "execution_count": null,
   "metadata": {},
   "outputs": [],
   "source": [
    "#This is also image addition, but different weights are given to\n",
    "#images so that it gives a feeling of blending or transparency.\n",
    "#Images are added as per the equation below:\n",
    "#g(x) = (1-a)f0(x) = af1(x)\n",
    "\n",
    "img1 = cv2.imread('Data/ml.jpg')\n",
    "img2 = cv2.imread('Data/opencv_logo.png')\n",
    "\n",
    "#dst = cv2.add(img1,img2)\n",
    "#plt.imshow(dst)\n",
    "\n",
    "dst = cv2.addWeighted(img1,0.8,img2,0.1,0)\n",
    "plt.imshow(dst)\n",
    "\n",
    "\n",
    "\n",
    "\n",
    "\n",
    "#cv2.imshow('dst',dst)\n",
    "#cv2.waitKey(0)\n",
    "#cv2.destroyAllWindows()"
   ]
  },
  {
   "cell_type": "markdown",
   "metadata": {},
   "source": [
    "### Bitwise Operations"
   ]
  },
  {
   "cell_type": "code",
   "execution_count": null,
   "metadata": {},
   "outputs": [],
   "source": [
    "# Bitwise Operations\n"
   ]
  },
  {
   "cell_type": "code",
   "execution_count": 26,
   "metadata": {},
   "outputs": [],
   "source": [
    "# Load two images\n",
    "# suppose opencv_logo is not rectangular\n",
    "img1 = cv2.imread('Data/messi5.jpg')\n",
    "img2 = cv2.imread('Data/opencv_logo.png')\n",
    "\n",
    "# I want to put logo on top-left corner, So I create a ROI\n",
    "rows,cols,channels = img2.shape\n",
    "roi = img1[0:rows, 0:cols ]\n",
    "\n",
    "# Now create a mask of logo and create its inverse mask also\n",
    "img2gray = cv2.cvtColor(img2,cv2.COLOR_BGR2GRAY)\n",
    "# any value less than 10 is 0 and larger than 10 is 255\n",
    "ret, mask = cv2.threshold(img2gray, 10, 255, cv2.THRESH_BINARY)\n",
    "mask_inv = cv2.bitwise_not(mask)\n",
    "\n",
    "\n",
    "# Now black-out the area of logo in ROI\n",
    "img1_bg = cv2.bitwise_and(roi,roi,mask = mask_inv)\n",
    "\n",
    "# Take only region of logo from logo image.\n",
    "img2_fg = cv2.bitwise_and(img2,img2,mask = mask)\n",
    "\n",
    "#cv2.imshow('res',img1_bg)\n",
    "#cv2.imshow('res',img2_fg)\n",
    "\n",
    "# Put logo in ROI and modify the main image\n",
    "dst = cv2.add(img1_bg,img2_fg)\n",
    "img1[0:rows, 0:cols ] = dst\n",
    "\n",
    "cv2.imshow('res',img1)\n",
    "cv2.waitKey(0)\n",
    "cv2.destroyAllWindows()"
   ]
  },
  {
   "cell_type": "markdown",
   "metadata": {},
   "source": [
    "### More samples"
   ]
  },
  {
   "cell_type": "markdown",
   "metadata": {},
   "source": [
    "## Alpha blending "
   ]
  },
  {
   "cell_type": "code",
   "execution_count": 47,
   "metadata": {},
   "outputs": [
    {
     "name": "stdout",
     "output_type": "stream",
     "text": [
      "(225, 400, 3)\n",
      "(427, 640, 3)\n",
      "(225, 400, 3)\n"
     ]
    }
   ],
   "source": [
    "src1 = cv2.imread('data/lena.jpg')\n",
    "src2 = cv2.imread('data/rocket.jpg')\n",
    "print(src1.shape)\n",
    "print(src2.shape)\n",
    "\n",
    "src2 = cv2.resize(src2, src1.shape[1::-1])\n",
    "print(src2.shape)\n"
   ]
  },
  {
   "cell_type": "code",
   "execution_count": 48,
   "metadata": {},
   "outputs": [],
   "source": [
    "#x=np.arange(18).reshape(3,2,3)\n",
    "#print(x.shape)\n",
    "#print(x)\n",
    "#y = x[1::-1]\n",
    "#print(y.shape)\n",
    "#print(y)\n"
   ]
  },
  {
   "cell_type": "code",
   "execution_count": 49,
   "metadata": {},
   "outputs": [
    {
     "data": {
      "text/plain": [
       "True"
      ]
     },
     "execution_count": 49,
     "metadata": {},
     "output_type": "execute_result"
    }
   ],
   "source": [
    "dst = cv2.addWeighted(src1, 0.5, src2, 0.5, 0)\n",
    "\n",
    "cv2.imwrite('saved-images/opencv_add_weighted.jpg', dst)"
   ]
  },
  {
   "cell_type": "code",
   "execution_count": 50,
   "metadata": {},
   "outputs": [
    {
     "data": {
      "text/plain": [
       "True"
      ]
     },
     "execution_count": 50,
     "metadata": {},
     "output_type": "execute_result"
    }
   ],
   "source": [
    "dst = cv2.addWeighted(src1, 0.5, src2, 0.2, 128)\n",
    "\n",
    "cv2.imwrite('saved-imaages/opencv_add_weighted_gamma.jpg', dst)"
   ]
  },
  {
   "cell_type": "code",
   "execution_count": 51,
   "metadata": {},
   "outputs": [
    {
     "name": "stdout",
     "output_type": "stream",
     "text": [
      "(225, 400, 3)\n",
      "uint8\n"
     ]
    },
    {
     "data": {
      "text/plain": [
       "True"
      ]
     },
     "execution_count": 51,
     "metadata": {},
     "output_type": "execute_result"
    }
   ],
   "source": [
    "src2 = cv2.imread('data/horse_r.png')\n",
    "\n",
    "src2 = cv2.resize(src2, src1.shape[1::-1])\n",
    "\n",
    "print(src2.shape)\n",
    "# (225, 400, 3)\n",
    "\n",
    "print(src2.dtype)\n",
    "# uint8\n",
    "\n",
    "dst = cv2.bitwise_and(src1, src2)\n",
    "\n",
    "cv2.imwrite('saved-images/opencv_bitwise_and.jpg', dst)"
   ]
  },
  {
   "cell_type": "markdown",
   "metadata": {},
   "source": [
    "## Alpha blending with NumPy"
   ]
  },
  {
   "cell_type": "code",
   "execution_count": 54,
   "metadata": {},
   "outputs": [
    {
     "name": "stdout",
     "output_type": "stream",
     "text": [
      "uint8\n",
      "float64\n"
     ]
    }
   ],
   "source": [
    "# Here, image files are read as NumPy array ndarray using Pillow. \n",
    "#Resize is also done by the method of Pillow.\n",
    "\n",
    "import numpy as np\n",
    "from PIL import Image\n",
    "\n",
    "src1 = np.array(Image.open('data/lena.jpg'))\n",
    "src2 = np.array(Image.open('data/rocket.jpg').resize(src1.shape[1::-1], Image.BILINEAR))\n",
    "\n",
    "print(src1.dtype)\n",
    "# uint8\n",
    "\n",
    "dst = src1 * 0.5 + src2 * 0.5\n",
    "\n",
    "print(dst.dtype)\n",
    "# float64\n",
    "\n",
    "Image.fromarray(dst.astype(np.uint8)).save('saved-images/numpy_image_alpha_blend.jpg')"
   ]
  },
  {
   "cell_type": "markdown",
   "metadata": {},
   "source": [
    "### Masking with NumPy"
   ]
  },
  {
   "cell_type": "code",
   "execution_count": 55,
   "metadata": {},
   "outputs": [
    {
     "name": "stdout",
     "output_type": "stream",
     "text": [
      "uint8 0 255\n",
      "float64 0.0 1.0\n"
     ]
    }
   ],
   "source": [
    "# The arithmetic operations of ndarrays of the same shape are \n",
    "#operations for each pixel at the same position.\n",
    "import numpy as np\n",
    "from PIL import Image\n",
    "\n",
    "src = np.array(Image.open('data/lena.jpg'))\n",
    "mask = np.array(Image.open('data/horse_r.png').resize(src.shape[1::-1], Image.BILINEAR))\n",
    "\n",
    "print(mask.dtype, mask.min(), mask.max())\n",
    "# uint8 0 255\n",
    "\n",
    "mask = mask / 255\n",
    "\n",
    "print(mask.dtype, mask.min(), mask.max())\n",
    "# float64 0.0 1.0\n",
    "\n",
    "dst = src * mask\n",
    "\n",
    "Image.fromarray(dst.astype(np.uint8)).save('saved-images/numpy_image_mask.jpg')\n",
    "\n",
    "# If mask image is grey scale (2D) then you must fix it first\n",
    "#mask = mask.reshape(*mask.shape, 1)\n",
    "##or mask = mask[:, :, np.newaxis]\n",
    "#print(mask.shape)\n",
    "## (225, 400, 1)\n",
    "\n",
    "#dst = src * mask\n"
   ]
  },
  {
   "cell_type": "markdown",
   "metadata": {},
   "source": [
    "## Mask image creation by OpenCV drawing"
   ]
  },
  {
   "cell_type": "code",
   "execution_count": 61,
   "metadata": {},
   "outputs": [
    {
     "name": "stdout",
     "output_type": "stream",
     "text": [
      "(225, 400, 3)\n",
      "uint8\n"
     ]
    },
    {
     "data": {
      "text/plain": [
       "True"
      ]
     },
     "execution_count": 61,
     "metadata": {},
     "output_type": "execute_result"
    }
   ],
   "source": [
    "import cv2\n",
    "import numpy as np\n",
    "\n",
    "src = cv2.imread('data/lena.jpg')\n",
    "\n",
    "mask = np.zeros_like(src)\n",
    "\n",
    "print(mask.shape)\n",
    "# (225, 400, 3)\n",
    "\n",
    "print(mask.dtype)\n",
    "# uint8\n",
    "\n",
    "cv2.rectangle(mask, (50, 50), (100, 200), (255, 255, 255), thickness=-1)\n",
    "cv2.circle(mask, (200, 100), 50, (255, 255, 255), thickness=-1)\n",
    "cv2.fillConvexPoly(mask, np.array([[330, 50], [300, 200], [360, 150]]), (255, 255, 255))\n",
    "\n",
    "cv2.imwrite('saved-images/opencv_draw_mask.jpg', mask)\n",
    "\n",
    "#When smoothing (blurring) processing is performed\n",
    "#  (kernel size needs to be odd) and Gaussian SD if 0 it is calculated auto\n",
    "mask_blur = cv2.GaussianBlur(mask, (51, 51), 0)\n",
    "\n",
    "cv2.imwrite('saved-images/opencv_draw_mask_blur.jpg', mask_blur)\n",
    "\n",
    "dst = src * (mask_blur / 255)\n",
    "cv2.imwrite('saved-images/opencv_draw_mask_blur_result.jpg', dst)\n"
   ]
  },
  {
   "cell_type": "code",
   "execution_count": null,
   "metadata": {},
   "outputs": [],
   "source": []
  }
 ],
 "metadata": {
  "kernelspec": {
   "display_name": "Python 3",
   "language": "python",
   "name": "python3"
  },
  "language_info": {
   "codemirror_mode": {
    "name": "ipython",
    "version": 3
   },
   "file_extension": ".py",
   "mimetype": "text/x-python",
   "name": "python",
   "nbconvert_exporter": "python",
   "pygments_lexer": "ipython3",
   "version": "3.6.10"
  }
 },
 "nbformat": 4,
 "nbformat_minor": 4
}
